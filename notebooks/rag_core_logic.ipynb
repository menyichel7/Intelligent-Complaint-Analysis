{
 "cells": [
  {
   "cell_type": "code",
   "execution_count": null,
   "id": "b3f064c3",
   "metadata": {},
   "outputs": [],
   "source": [
    "import numpy as np\n",
    "import pandas as pd\n",
    "import faiss\n",
    "from transformers import RagTokenizer, RagRetriever, RagSequenceForGeneration\n",
    "\n",
    "# Load the filtered dataset\n",
    "filtered_df = pd.read_csv('../filtefiltered_complaintsred/filtered_complaints.csv')\n",
    "\n",
    "# Load embeddings and IDs\n",
    "embeddings = np.load('vector_store/embeddings.npy')\n",
    "ids = np.load('vector_store/ids.npy')\n",
    "\n",
    "# Initialize FAISS index\n",
    "dimension = embeddings.shape[1]\n",
    "index = faiss.IndexFlatL2(dimension)\n",
    "index.add(embeddings.astype(np.float32))\n",
    "\n",
    "# Initialize RAG components\n",
    "tokenizer = RagTokenizer.from_pretrained(\"facebook/rag-sequence\")\n",
    "retriever = RagRetriever.from_pretrained(\"facebook/rag-sequence\", index=index)\n",
    "model = RagSequenceForGeneration.from_pretrained(\"facebook/rag-sequence\")\n",
    "\n",
    "# Function to generate response based on a query\n",
    "def generate_response(query):\n",
    "    # Encode the query\n",
    "    inputs = tokenizer(query, return_tensors=\"pt\")\n",
    "    \n",
    "    # Retrieve relevant documents\n",
    "    retrieved_docs = retriever(inputs['input_ids'], inputs['attention_mask'], return_tensors='pt')\n",
    "    \n",
    "    # Generate answer\n",
    "    outputs = model.generate(**retrieved_docs)\n",
    "    answer = tokenizer.batch_decode(outputs, skip_special_tokens=True)\n",
    "    \n",
    "    return answer\n",
    "\n",
    "query = \"What issues are common with credit cards?\"\n",
    "response = generate_response(query)\n",
    "print(\"Response:\", response)"
   ]
  }
 ],
 "metadata": {
  "language_info": {
   "name": "python"
  }
 },
 "nbformat": 4,
 "nbformat_minor": 5
}
